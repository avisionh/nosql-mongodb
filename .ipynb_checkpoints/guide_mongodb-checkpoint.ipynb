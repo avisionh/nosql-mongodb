{
 "cells": [
  {
   "cell_type": "markdown",
   "metadata": {},
   "source": [
    "# No-SQL, MongoDB and Python\n",
    "This Jupyter notebook establishes the following lines of questioning:\n",
    "1. What is No-SQL, especially with reference to SQL databases?\n",
    "1. Why would you use a No-SQL database over SQL databases?\n",
    "1. How can you setup a (*free*) cloud-based No-SQL database?\n",
    "1. Other vendors that you can set-up No-SQL databases with, and their difference to [MongoDB](https://www.mongodb.com/), the choice used here.\n",
    "1. How you can interact with your No-SQL database in the form of?\n",
    "    + Connecting to the database\n",
    "    + Viewing *objects*\n",
    "    + Importing data\n",
    "    \n",
    "    \n",
    "For this session, are accessing a database already set-up. Accessing this database and performing the tasks outlined above would require **READ-WRITE** access. To obtain the ability to interact with the database used in this notebook, please contact [Avision Ho](https://github.com/avisionh).\n",
    "  "
   ]
  }
 ],
 "metadata": {
  "anaconda-cloud": {},
  "kernelspec": {
   "display_name": "Python [conda env:Anaconda3]",
   "language": "python",
   "name": "conda-env-Anaconda3-py"
  },
  "language_info": {
   "codemirror_mode": {
    "name": "ipython",
    "version": 3
   },
   "file_extension": ".py",
   "mimetype": "text/x-python",
   "name": "python",
   "nbconvert_exporter": "python",
   "pygments_lexer": "ipython3",
   "version": "3.5.2"
  },
  "varInspector": {
   "cols": {
    "lenName": 16,
    "lenType": 16,
    "lenVar": 40
   },
   "kernels_config": {
    "python": {
     "delete_cmd_postfix": "",
     "delete_cmd_prefix": "del ",
     "library": "var_list.py",
     "varRefreshCmd": "print(var_dic_list())"
    },
    "r": {
     "delete_cmd_postfix": ") ",
     "delete_cmd_prefix": "rm(",
     "library": "var_list.r",
     "varRefreshCmd": "cat(var_dic_list()) "
    }
   },
   "types_to_exclude": [
    "module",
    "function",
    "builtin_function_or_method",
    "instance",
    "_Feature"
   ],
   "window_display": false
  }
 },
 "nbformat": 4,
 "nbformat_minor": 1
}
