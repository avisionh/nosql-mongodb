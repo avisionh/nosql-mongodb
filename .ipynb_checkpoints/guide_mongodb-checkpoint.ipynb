{
 "cells": [
  {
   "cell_type": "markdown",
   "metadata": {},
   "source": [
    "# No-SQL, MongoDB and Python\n",
    "This Jupyter notebook establishes the following lines of questioning:\n",
    "1. What is No-SQL, especially with reference to SQL databases?\n",
    "1. Why would you use a No-SQL database over SQL databases?\n",
    "1. How can you setup a (*free*) cloud-based No-SQL database?\n",
    "1. Other vendors that you can set-up No-SQL databases with, and their difference to [MongoDB](https://www.mongodb.com/), the choice used here.\n",
    "1. How you can interact with your No-SQL database in the form of?\n",
    "    + Connecting to the database\n",
    "    + Viewing *objects*\n",
    "    + Importing data\n",
    "    \n",
    "    \n",
    "For this session, are accessing a database already set-up. Accessing this database and performing the tasks outlined above would require **READ-WRITE** access. To obtain the ability to interact with the database used in this notebook, please contact [Avision Ho](https://github.com/avisionh).\n",
    "  "
   ]
  },
  {
   "cell_type": "code",
   "execution_count": null,
   "metadata": {},
   "outputs": [],
   "source": [
    "# Get location of Python installation\n",
    "import sys\n",
    "import os\n",
    "os.path.dirname(sys.executable)"
   ]
  },
  {
   "cell_type": "markdown",
   "metadata": {},
   "source": [
    "## 1. Set-up\n",
    "Start by establishing the base for our code later on.\n",
    "\n",
    "Note, that to effectively run this notebook through your organisation's proxy, including getting round issues of `pip install pymongo --proxy <ip_address>.<port_number>`, then will use a Google's hosted [Jupyter Notebook service](https://colab.research.google.com/)."
   ]
  },
  {
   "cell_type": "code",
   "execution_count": 13,
   "metadata": {},
   "outputs": [
    {
     "name": "stdout",
     "output_type": "stream",
     "text": [
      "Collecting pymongo\n"
     ]
    },
    {
     "name": "stderr",
     "output_type": "stream",
     "text": [
      "  Retrying (Retry(total=4, connect=None, read=None, redirect=None, status=None)) after connection broken by 'ConnectTimeoutError(<pip._vendor.urllib3.connection.VerifiedHTTPSConnection object at 0x0000019A17BA2DA0>, 'Connection to pypi.org timed out. (connect timeout=15)')': /simple/pymongo/\n",
      "  Retrying (Retry(total=3, connect=None, read=None, redirect=None, status=None)) after connection broken by 'ConnectTimeoutError(<pip._vendor.urllib3.connection.VerifiedHTTPSConnection object at 0x0000019A17BA25F8>, 'Connection to pypi.org timed out. (connect timeout=15)')': /simple/pymongo/\n",
      "  Retrying (Retry(total=2, connect=None, read=None, redirect=None, status=None)) after connection broken by 'ConnectTimeoutError(<pip._vendor.urllib3.connection.VerifiedHTTPSConnection object at 0x0000019A17BA2668>, 'Connection to pypi.org timed out. (connect timeout=15)')': /simple/pymongo/\n",
      "  Retrying (Retry(total=1, connect=None, read=None, redirect=None, status=None)) after connection broken by 'ConnectTimeoutError(<pip._vendor.urllib3.connection.VerifiedHTTPSConnection object at 0x0000019A17BA24A8>, 'Connection to pypi.org timed out. (connect timeout=15)')': /simple/pymongo/\n",
      "  Retrying (Retry(total=0, connect=None, read=None, redirect=None, status=None)) after connection broken by 'ConnectTimeoutError(<pip._vendor.urllib3.connection.VerifiedHTTPSConnection object at 0x0000019A17BA25C0>, 'Connection to pypi.org timed out. (connect timeout=15)')': /simple/pymongo/\n",
      "  Could not find a version that satisfies the requirement pymongo (from versions: )\n",
      "No matching distribution found for pymongo\n"
     ]
    },
    {
     "name": "stdout",
     "output_type": "stream",
     "text": [
      "Collecting kaggle\n"
     ]
    },
    {
     "name": "stderr",
     "output_type": "stream",
     "text": [
      "  Retrying (Retry(total=4, connect=None, read=None, redirect=None, status=None)) after connection broken by 'ConnectTimeoutError(<pip._vendor.urllib3.connection.VerifiedHTTPSConnection object at 0x000001DF6EF224E0>, 'Connection to pypi.org timed out. (connect timeout=15)')': /simple/kaggle/\n",
      "  Retrying (Retry(total=3, connect=None, read=None, redirect=None, status=None)) after connection broken by 'ConnectTimeoutError(<pip._vendor.urllib3.connection.VerifiedHTTPSConnection object at 0x000001DF6EF225C0>, 'Connection to pypi.org timed out. (connect timeout=15)')': /simple/kaggle/\n",
      "  Retrying (Retry(total=2, connect=None, read=None, redirect=None, status=None)) after connection broken by 'ConnectTimeoutError(<pip._vendor.urllib3.connection.VerifiedHTTPSConnection object at 0x000001DF6EF22710>, 'Connection to pypi.org timed out. (connect timeout=15)')': /simple/kaggle/\n",
      "  Retrying (Retry(total=1, connect=None, read=None, redirect=None, status=None)) after connection broken by 'ConnectTimeoutError(<pip._vendor.urllib3.connection.VerifiedHTTPSConnection object at 0x000001DF6EF224A8>, 'Connection to pypi.org timed out. (connect timeout=15)')': /simple/kaggle/\n",
      "  Retrying (Retry(total=0, connect=None, read=None, redirect=None, status=None)) after connection broken by 'ConnectTimeoutError(<pip._vendor.urllib3.connection.VerifiedHTTPSConnection object at 0x000001DF6EF22588>, 'Connection to pypi.org timed out. (connect timeout=15)')': /simple/kaggle/\n",
      "  Could not find a version that satisfies the requirement kaggle (from versions: )\n",
      "No matching distribution found for kaggle\n"
     ]
    }
   ],
   "source": [
    "# Install packages\n",
    "!pip install pymongo\n",
    "!pip install kaggle;"
   ]
  },
  {
   "cell_type": "markdown",
   "metadata": {},
   "source": [
    "### Let's connect to the Kaggle API\n",
    "As part of our experimentation, will be downloading data directly from Kaggle via their API. To do so, will need to follow their guidance [here](https://github.com/Kaggle/kaggle-api).\n",
    "\n",
    "In particular, will need a API token and have this saved in our Google Colab session so that it can access the Kaggle API. Guidance on doing this is [here](https://stackoverflow.com/questions/49310470/using-kaggle-datasets-in-google-colab)."
   ]
  },
  {
   "cell_type": "code",
   "execution_count": null,
   "metadata": {},
   "outputs": [],
   "source": [
    "# Upload kaggle.json file\n",
    "from google.colab import files\n",
    "files.upload()"
   ]
  },
  {
   "cell_type": "code",
   "execution_count": null,
   "metadata": {},
   "outputs": [],
   "source": [
    "# Move into folder which Kaggle API client expects\n",
    "!mkdir -p ~/.kaggle\n",
    "!cp kaggle.json ~/.kaggle/"
   ]
  },
  {
   "cell_type": "code",
   "execution_count": null,
   "metadata": {},
   "outputs": [],
   "source": [
    "# For security, hide API key\n",
    "# Make API key hidden\n",
    "!chmod 600 /root/.kaggle/kaggle.json"
   ]
  },
  {
   "cell_type": "markdown",
   "metadata": {},
   "source": [
    "### Need to load packages\n",
    "Next step is to load our packages so we can use functions within them later in our notebook. Also, check our working directory for interest and authenticate the **Kaggle API client** so we can download data from the web servers."
   ]
  },
  {
   "cell_type": "code",
   "execution_count": 14,
   "metadata": {
    "collapsed": true
   },
   "outputs": [
    {
     "ename": "ModuleNotFoundError",
     "evalue": "No module named 'pymongo'",
     "output_type": "error",
     "traceback": [
      "\u001b[1;31m---------------------------------------------------------------------------\u001b[0m",
      "\u001b[1;31mModuleNotFoundError\u001b[0m                       Traceback (most recent call last)",
      "\u001b[1;32m<ipython-input-14-8e917628878c>\u001b[0m in \u001b[0;36m<module>\u001b[1;34m()\u001b[0m\n\u001b[0;32m      1\u001b[0m \u001b[1;31m# Load relevant packages\u001b[0m\u001b[1;33m\u001b[0m\u001b[1;33m\u001b[0m\u001b[0m\n\u001b[1;32m----> 2\u001b[1;33m \u001b[1;32mfrom\u001b[0m \u001b[0mpymongo\u001b[0m \u001b[1;32mimport\u001b[0m \u001b[0mMongoClient\u001b[0m\u001b[1;33m\u001b[0m\u001b[0m\n\u001b[0m\u001b[0;32m      3\u001b[0m \u001b[1;32mfrom\u001b[0m \u001b[0mpprint\u001b[0m \u001b[1;32mimport\u001b[0m \u001b[0mpprint\u001b[0m\u001b[1;33m\u001b[0m\u001b[0m\n\u001b[0;32m      4\u001b[0m \u001b[1;32mimport\u001b[0m \u001b[0mkaggle\u001b[0m\u001b[1;33m\u001b[0m\u001b[0m\n\u001b[0;32m      5\u001b[0m \u001b[1;32mimport\u001b[0m \u001b[0mjson\u001b[0m\u001b[1;33m\u001b[0m\u001b[0m\n",
      "\u001b[1;31mModuleNotFoundError\u001b[0m: No module named 'pymongo'"
     ]
    }
   ],
   "source": [
    "# Load relevant packages\n",
    "from pymongo import MongoClient\n",
    "from pprint import pprint\n",
    "import kaggle\n",
    "import json\n",
    "import os"
   ]
  },
  {
   "cell_type": "code",
   "execution_count": null,
   "metadata": {},
   "outputs": [],
   "source": [
    "# Check current working directory\n",
    "os.getcwd()"
   ]
  },
  {
   "cell_type": "code",
   "execution_count": 6,
   "metadata": {},
   "outputs": [
    {
     "data": {
      "text/plain": [
       "'C:\\\\Users\\\\AHo\\\\OneDrive - Department for Education\\\\Documents\\\\Python Scripts\\\\nosql-mongodb'"
      ]
     },
     "execution_count": 6,
     "metadata": {},
     "output_type": "execute_result"
    }
   ],
   "source": [
    "# Upload user_credentials file for connecting to MongoDB cluster\n",
    "from google.colab import files\n",
    "files.upload()"
   ]
  },
  {
   "cell_type": "code",
   "execution_count": 8,
   "metadata": {
    "collapsed": true
   },
   "outputs": [],
   "source": [
    "# Authenticate Kaggle API to enable downloading data from there\n",
    "kaggle.api.authenticate()"
   ]
  },
  {
   "cell_type": "markdown",
   "metadata": {},
   "source": [
    "## 2. Theory and Concepts\n",
    "Here, we will discuss what No-SQL is, why you will use it, especially with reference to SQL, and important pieces of language to pick-up when talking No-SQL."
   ]
  },
  {
   "cell_type": "markdown",
   "metadata": {},
   "source": [
    "### What is this new-fangled No-SQL then?\n",
    "No-SQL is **not** SQL.\n",
    "\n",
    "No-SQL belongs to a family of non-relational databases, whereas SQL belongs to the category of relational databases.\n",
    "\n",
    "It refers to a set of databases designed to handle the processing of dynamically evolving, real-time changing large-scale and unstructured data.\n",
    "\n",
    "Essentially, No-SQL databases are built to be flexible and scalable so that they can hold any type of data at large volumes and with little work in creating a pre-existing structure to hold the data.\n",
    "\n",
    "#### Example: Amazon\n",
    "As an ecommerce giant, they sell a phenomenal range of products (*e.g. books, electronics, clothes and even food*), with each of these products having a number of characteristics associated with them (*e.g. price, weight, dimensions, manufacturer description, reviews*). \n",
    "\n",
    "In theory, these products, their product categories and characteristics could all be stored in a relational database such as SQL. However, if a new characteristic such as user reviews were to be added, it may require that the entire database is destroyed and re-designed to incorporate this. With a non-relational database, there is no need to start from scratch - **flexibility**.\n",
    "\n",
    "Another compelling example for choosing non-relational databases over relational databases in this example is that given how many orders Amazon collects and processes (not to mention that they also monitor your activity in browsing and mulling over products), then they are collecting huge reams of data. There will come a point where they have reached their 'computer memory' limit. Under a relational database system which is **vertically-scalable**, this means to increase their 'computer memory', they will need to buy a bigger computer with more storage space, and transfer all that data over, getting rid of the old one. Whereas with a non-relational database system which is **horizontally-scalable**, they only need to buy an extra computer with less memory, add it to the network of other computers, and the *total storage space of all these computers* increases thereby taking on the extra data. It's immediately apparent that this is much more cost-effective - **scalability**."
   ]
  },
  {
   "cell_type": "markdown",
   "metadata": {},
   "source": [
    "## Why should I use No-SQL over my dearly beloved SQL?"
   ]
  },
  {
   "cell_type": "markdown",
   "metadata": {},
   "source": [
    "## Righty-ho, I want a No-SQL database, what are my choices?"
   ]
  },
  {
   "cell_type": "markdown",
   "metadata": {},
   "source": [
    "## Let's get our language right first, eh?\n",
    "As No-SQL is a tad different to SQL, then the language to describe it are different too. Fret not though, there are analogues of SQL terminology which maps to No-SQL terminology!\n",
    "\n",
    "| SQL Term | No-SQL Term |\n",
    "| --- | --- | \n",
    "| Server | Cluster |\n",
    "| Database | Database |\n",
    "| Schema | Schema |\n",
    "| Table | Collection |\n",
    "| Row | Document |"
   ]
  },
  {
   "cell_type": "markdown",
   "metadata": {},
   "source": [
    "## How do I create a (free) No-SQL cluster?"
   ]
  },
  {
   "cell_type": "markdown",
   "metadata": {},
   "source": [
    "## How do I connect to my No-SQL MongoDB cluster?\n",
    "To connect to your newly-created MongoDB cluster, will follow the below steps which are somewhat covered on the official [MongoDB Atlas documentation](https://docs.atlas.mongodb.com/driver-connection/) and blogs like this [one](https://code.tutsplus.com/tutorials/create-a-database-cluster-in-the-cloud-with-mongodb-atlas--cms-31840).\n",
    "1. On the MongoDB Atlas dashboard, create user group that has **READ-WRITE** access to the cluster.\n",
    "1. Create a JSON file and store these credentials in there so not every Tom, Dick and Harry can do stuff on your cluster.\n",
    "    + Including destructively destroy your data (*gasps*)!\n",
    "1. In Python, import this JSON file.\n",
    "1. On the MongoDB Atlas dashboard, obtain the connection string for your cluster.\n",
    "1. In Python, feed the user credentials from your JSON file into your connection string.\n",
    "1. In Python, use this connection string to connect to your MongoDB cluster."
   ]
  },
  {
   "cell_type": "code",
   "execution_count": 10,
   "metadata": {},
   "outputs": [
    {
     "name": "stdout",
     "output_type": "stream",
     "text": [
      "{'user_group': 'user_readwrite', 'user_password': 'FYyyJYk37SN5WyTo'}\n"
     ]
    }
   ],
   "source": [
    "# Import credentials for connecting to MongoDB server\n",
    "with open(\"user_credentials.json\") as file_json:\n",
    "    data_credentials = json.load(file_json)\n",
    "print(data_credentials)"
   ]
  },
  {
   "cell_type": "code",
   "execution_count": 11,
   "metadata": {},
   "outputs": [
    {
     "ename": "NameError",
     "evalue": "name 'MongoClient' is not defined",
     "output_type": "error",
     "traceback": [
      "\u001b[1;31m---------------------------------------------------------------------------\u001b[0m",
      "\u001b[1;31mNameError\u001b[0m                                 Traceback (most recent call last)",
      "\u001b[1;32m<ipython-input-11-66bc3d912e15>\u001b[0m in \u001b[0;36m<module>\u001b[1;34m()\u001b[0m\n\u001b[0;32m     11\u001b[0m \u001b[1;33m\u001b[0m\u001b[0m\n\u001b[0;32m     12\u001b[0m \u001b[1;31m# Call class just created to connect to MongoDB\u001b[0m\u001b[1;33m\u001b[0m\u001b[1;33m\u001b[0m\u001b[0m\n\u001b[1;32m---> 13\u001b[1;33m \u001b[0mclient\u001b[0m \u001b[1;33m=\u001b[0m \u001b[0mConnect\u001b[0m\u001b[1;33m.\u001b[0m\u001b[0mget_connection\u001b[0m\u001b[1;33m(\u001b[0m\u001b[1;33m)\u001b[0m\u001b[1;33m\u001b[0m\u001b[0m\n\u001b[0m",
      "\u001b[1;32m<ipython-input-11-66bc3d912e15>\u001b[0m in \u001b[0;36mget_connection\u001b[1;34m()\u001b[0m\n\u001b[0;32m      8\u001b[0m     \u001b[1;33m@\u001b[0m\u001b[0mstaticmethod\u001b[0m\u001b[1;33m\u001b[0m\u001b[0m\n\u001b[0;32m      9\u001b[0m     \u001b[1;32mdef\u001b[0m \u001b[0mget_connection\u001b[0m\u001b[1;33m(\u001b[0m\u001b[1;33m)\u001b[0m\u001b[1;33m:\u001b[0m\u001b[1;33m\u001b[0m\u001b[0m\n\u001b[1;32m---> 10\u001b[1;33m         \u001b[1;32mreturn\u001b[0m \u001b[0mMongoClient\u001b[0m\u001b[1;33m(\u001b[0m\u001b[0mconnect_string\u001b[0m\u001b[1;33m)\u001b[0m\u001b[1;33m\u001b[0m\u001b[0m\n\u001b[0m\u001b[0;32m     11\u001b[0m \u001b[1;33m\u001b[0m\u001b[0m\n\u001b[0;32m     12\u001b[0m \u001b[1;31m# Call class just created to connect to MongoDB\u001b[0m\u001b[1;33m\u001b[0m\u001b[1;33m\u001b[0m\u001b[0m\n",
      "\u001b[1;31mNameError\u001b[0m: name 'MongoClient' is not defined"
     ]
    }
   ],
   "source": [
    "# Create connection string\n",
    "connect_user = data_credentials[\"user_group\"]\n",
    "connect_password = data_credentials[\"user_password\"]\n",
    " # obtain full connection string from MongoDB Atlas server dashboard\n",
    "connect_string = \"mongodb://\" + connect_user + \":\" + connect_password + \"@cluster-open-shard-00-00-kzzlc.mongodb.net:27017,cluster-open-shard-00-01-kzzlc.mongodb.net:27017,cluster-open-shard-00-02-kzzlc.mongodb.net:27017/test?replicaSet=cluster-open-shard-0&authSource=admin&ssl=true\"\n",
    "\n",
    "class Connect(object):\n",
    "    @staticmethod\n",
    "    def get_connection():\n",
    "        return MongoClient(connect_string)\n",
    "    \n",
    "# Call class just created to connect to MongoDB\n",
    "client = Connect.get_connection()"
   ]
  },
  {
   "cell_type": "markdown",
   "metadata": {},
   "source": [
    "## Woop! Can I see what's already inside the cluster?\n",
    "Let's have a look at the pre-existing **library** database as a quick check to see we are connected to the right cluster!"
   ]
  },
  {
   "cell_type": "code",
   "execution_count": 11,
   "metadata": {},
   "outputs": [
    {
     "name": "stdout",
     "output_type": "stream",
     "text": [
      "{'_id': 'AhoAV', 'fname': 'Alfred V.', 'lname': 'Aho', 'yob': 1941.0}\n",
      "{'_id': 'HopcroftJE', 'fname': 'John E.', 'lname': 'Hopcroft', 'yob': 1939.0}\n",
      "{'_id': 'WirthN', 'fname': 'Niklaus', 'lname': 'Wirth', 'yob': 1934.0}\n",
      "{'_id': 'LeisersonCE',\n",
      " 'fname': 'Charles E.',\n",
      " 'lname': 'Leiserson',\n",
      " 'yob': 1953.0}\n",
      "{'_id': 'RivestRL', 'fname': 'Ronald L.', 'lname': 'Rivest', 'yob': 1947.0}\n",
      "{'_id': 'SteinCL', 'fname': 'Clifford S.', 'lname': 'Stein', 'yob': 1965.0}\n"
     ]
    }
   ],
   "source": [
    "# Access the 'library' database\n",
    "db = client.library\n",
    "\n",
    "# Retrieve all documents in 'authors' collection within the 'library' database\n",
    "cursor = db.authors.find({})\n",
    "for authors in cursor:\n",
    "     pprint(authors)"
   ]
  },
  {
   "cell_type": "markdown",
   "metadata": {},
   "source": [
    "## I want to get my hands dirty now! How can I import data?"
   ]
  }
 ],
 "metadata": {
  "anaconda-cloud": {},
  "kernelspec": {
   "display_name": "Python 3",
   "language": "python",
   "name": "python3"
  },
  "varInspector": {
   "cols": {
    "lenName": 16,
    "lenType": 16,
    "lenVar": 40
   },
   "kernels_config": {
    "python": {
     "delete_cmd_postfix": "",
     "delete_cmd_prefix": "del ",
     "library": "var_list.py",
     "varRefreshCmd": "print(var_dic_list())"
    },
    "r": {
     "delete_cmd_postfix": ") ",
     "delete_cmd_prefix": "rm(",
     "library": "var_list.r",
     "varRefreshCmd": "cat(var_dic_list()) "
    }
   },
   "position": {
    "height": "233px",
    "left": "1776.23px",
    "right": "20px",
    "top": "120px",
    "width": "341px"
   },
   "types_to_exclude": [
    "module",
    "function",
    "builtin_function_or_method",
    "instance",
    "_Feature"
   ],
   "window_display": true
  }
 },
 "nbformat": 4,
 "nbformat_minor": 1
}
