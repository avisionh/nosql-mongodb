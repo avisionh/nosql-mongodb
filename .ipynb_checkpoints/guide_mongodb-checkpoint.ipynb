{
 "cells": [
  {
   "cell_type": "markdown",
   "metadata": {},
   "source": [
    "# No-SQL, MongoDB and Python\n",
    "This Jupyter notebook establishes the following lines of questioning:\n",
    "1. What is No-SQL, especially with reference to SQL databases?\n",
    "1. Why would you use a No-SQL database over SQL databases?\n",
    "1. How can you setup a (*free*) cloud-based No-SQL database?\n",
    "1. Other vendors that you can set-up No-SQL databases with, and their difference to [MongoDB](https://www.mongodb.com/), the choice used here.\n",
    "1. How you can interact with your No-SQL database in the form of?\n",
    "    + Connecting to the database\n",
    "    + Viewing *objects*\n",
    "    + Importing data\n",
    "    \n",
    "    \n",
    "For this session, are accessing a database already set-up. Accessing this database and performing the tasks outlined above would require **READ-WRITE** access. To obtain the ability to interact with the database used in this notebook, please contact [Avision Ho](https://github.com/avisionh).\n",
    "  "
   ]
  },
  {
   "cell_type": "markdown",
   "metadata": {},
   "source": [
    "## Set-up\n",
    "Start by establishing the base for our code later on."
   ]
  },
  {
   "cell_type": "code",
   "execution_count": 2,
   "metadata": {
    "collapsed": true
   },
   "outputs": [],
   "source": [
    "# Load relevant packages\n",
    "from pymongo import MongoClient\n",
    "from pprint import pprint\n",
    "import kaggle\n",
    "import json\n",
    "import os"
   ]
  },
  {
   "cell_type": "code",
   "execution_count": 3,
   "metadata": {
    "collapsed": false
   },
   "outputs": [
    {
     "data": {
      "text/plain": [
       "'C:\\\\Users\\\\a_vis\\\\Documents\\\\Data Science\\\\Python\\\\MongoDB'"
      ]
     },
     "execution_count": 3,
     "metadata": {},
     "output_type": "execute_result"
    }
   ],
   "source": [
    "# Check current working directory\n",
    "os.getcwd()"
   ]
  },
  {
   "cell_type": "code",
   "execution_count": 8,
   "metadata": {
    "collapsed": true
   },
   "outputs": [],
   "source": [
    "# Authenticate Kaggle API to enable downloading data from there\n",
    "kaggle.api.authenticate()"
   ]
  },
  {
   "cell_type": "markdown",
   "metadata": {},
   "source": [
    "## What is this new-fangled No-SQL then?"
   ]
  },
  {
   "cell_type": "markdown",
   "metadata": {},
   "source": [
    "## Why should I use No-SQL over my dearly beloved SQL?"
   ]
  },
  {
   "cell_type": "markdown",
   "metadata": {},
   "source": [
    "## Righty-ho, I want a No-SQL database, what are my choices?"
   ]
  },
  {
   "cell_type": "markdown",
   "metadata": {},
   "source": [
    "## Let's get our language right first, eh?\n",
    "As No-SQL is a tad different to SQL, then the language to describe it are different too. Fret not though, there are analogues of SQL terminology which maps to No-SQL terminology!\n",
    "\n",
    "| SQL Term | No-SQL Term |\n",
    "| --- | --- | \n",
    "| Server | Cluster |\n",
    "| Database | Database |\n",
    "| Schema | Schema |\n",
    "| Table | Collection |\n",
    "| Row | Document |"
   ]
  },
  {
   "cell_type": "markdown",
   "metadata": {},
   "source": [
    "## How do I create a (free) No-SQL cluster?"
   ]
  },
  {
   "cell_type": "markdown",
   "metadata": {},
   "source": [
    "## How do I connect to my No-SQL MongoDB cluster?\n",
    "To connect to your newly-created MongoDB cluster, will follow the below steps which are somewhat covered on the official [MongoDB Atlas documentation](https://docs.atlas.mongodb.com/driver-connection/) and blogs like this [one](https://code.tutsplus.com/tutorials/create-a-database-cluster-in-the-cloud-with-mongodb-atlas--cms-31840).\n",
    "1. On the MongoDB Atlas dashboard, create user group that has **READ-WRITE** access to the cluster.\n",
    "1. Create a JSON file and store these credentials in there so not every Tom, Dick and Harry can do stuff on your cluster.\n",
    "    + Including destructively destroy your data (*gasps*)!\n",
    "1. In Python, import this JSON file.\n",
    "1. On the MongoDB Atlas dashboard, obtain the connection string for your cluster."
   ]
  },
  {
   "cell_type": "code",
   "execution_count": 6,
   "metadata": {
    "collapsed": true
   },
   "outputs": [],
   "source": [
    "# Import credentials for connecting to MongoDB server\n",
    "with open(\"user_credentials.json\") as file_json:\n",
    "    data_credentials = json.load(file_json)\n",
    "print(data_credentials)"
   ]
  },
  {
   "cell_type": "code",
   "execution_count": 7,
   "metadata": {
    "collapsed": false
   },
   "outputs": [
    {
     "name": "stdout",
     "output_type": "stream",
     "text": [
      "{'user_password': 'FYyyJYk37SN5WyTo', 'user_group': 'user_readwrite'}\n"
     ]
    }
   ],
   "source": [
    "# Create connection string\n",
    "connect_user = data_credentials[\"user_group\"]\n",
    "connect_password = data_credentials[\"user_password\"]\n",
    " # obtain full connection string from MongoDB Atlas server dashboard\n",
    "connect_string = \"mongodb://\" + connect_user + \":\" + connect_password + \"@cluster-open-shard-00-00-kzzlc.mongodb.net:27017,cluster-open-shard-00-01-kzzlc.mongodb.net:27017,cluster-open-shard-00-02-kzzlc.mongodb.net:27017/test?replicaSet=cluster-open-shard-0&authSource=admin&ssl=true\"\n",
    "\n",
    "class Connect(object):\n",
    "    @staticmethod\n",
    "    def get_connection():\n",
    "        return MongoClient(connect_string)\n",
    "    \n",
    "# Call class just created to connect to MongoDB\n",
    "client = Connect.get_connection()"
   ]
  }
 ],
 "metadata": {
  "anaconda-cloud": {},
  "kernelspec": {
   "display_name": "Python [conda env:Anaconda3]",
   "language": "python",
   "name": "conda-env-Anaconda3-py"
  },
  "language_info": {
   "codemirror_mode": {
    "name": "ipython",
    "version": 3
   },
   "file_extension": ".py",
   "mimetype": "text/x-python",
   "name": "python",
   "nbconvert_exporter": "python",
   "pygments_lexer": "ipython3",
   "version": "3.5.2"
  },
  "varInspector": {
   "cols": {
    "lenName": 16,
    "lenType": 16,
    "lenVar": 40
   },
   "kernels_config": {
    "python": {
     "delete_cmd_postfix": "",
     "delete_cmd_prefix": "del ",
     "library": "var_list.py",
     "varRefreshCmd": "print(var_dic_list())"
    },
    "r": {
     "delete_cmd_postfix": ") ",
     "delete_cmd_prefix": "rm(",
     "library": "var_list.r",
     "varRefreshCmd": "cat(var_dic_list()) "
    }
   },
   "position": {
    "height": "233px",
    "left": "1776.23px",
    "right": "20px",
    "top": "120px",
    "width": "341px"
   },
   "types_to_exclude": [
    "module",
    "function",
    "builtin_function_or_method",
    "instance",
    "_Feature"
   ],
   "window_display": true
  }
 },
 "nbformat": 4,
 "nbformat_minor": 1
}
